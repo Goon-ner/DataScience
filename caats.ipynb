{
 "cells": [
  {
   "cell_type": "code",
   "execution_count": 1,
   "id": "0b23eb6f",
   "metadata": {},
   "outputs": [],
   "source": [
    "import pandas as pd\n",
    "import re\n",
    "import numpy as np"
   ]
  },
  {
   "cell_type": "code",
   "execution_count": 2,
   "id": "edeb7549",
   "metadata": {},
   "outputs": [],
   "source": [
    "file_obj = open('sentences.txt', 'r')\n",
    "lines = file_obj.readlines()"
   ]
  },
  {
   "cell_type": "code",
   "execution_count": 3,
   "id": "c4d4055d",
   "metadata": {},
   "outputs": [],
   "source": [
    "lines = ' '.join(lines).strip().lower()"
   ]
  },
  {
   "cell_type": "code",
   "execution_count": 4,
   "id": "b941c4c0",
   "metadata": {},
   "outputs": [],
   "source": [
    "lines = re.split('[^a-z]', lines)"
   ]
  },
  {
   "cell_type": "code",
   "execution_count": 14,
   "id": "9b485a0e",
   "metadata": {},
   "outputs": [],
   "source": [
    "words = {}\n",
    "x = 1"
   ]
  },
  {
   "cell_type": "code",
   "execution_count": 20,
   "id": "f814db8d",
   "metadata": {},
   "outputs": [
    {
     "name": "stdout",
     "output_type": "stream",
     "text": [
      "{'in': 1216, 'comparison': 636, 'to': 1243, 'dogs': 638, '': 1268, 'cats': 784, 'have': 1056, 'not': 642, 'undergone': 643, 'major': 1241, 'changes': 1031, 'during': 646, 'the': 1239, 'domestication': 648, 'process': 739, 'as': 1143, 'cat': 1206, 'simply': 963, 'catenates': 655, 'streams': 656, 'of': 1254, 'bytes': 677, 'it': 978, 'can': 948, 'be': 1103, 'also': 1093, 'used': 664, 'concatenate': 674, 'binary': 667, 'files': 668, 'where': 844, 'will': 1061, 'just': 971, 'sequence': 895, 'a': 1252, 'common': 681, 'interactive': 682, 'use': 854, 'for': 1165, 'single': 688, 'file': 954, 'is': 1013, 'output': 826, 'content': 975, 'standard': 699, 'hear': 705, 'sounds': 706, 'too': 710, 'faint': 708, 'or': 1229, 'high': 711, 'frequency': 713, 'human': 845, 'ears': 716, 'such': 1251, 'those': 720, 'made': 721, 'by': 1264, 'mice': 723, 'and': 1181, 'other': 791, 'small': 1163, 'animals': 727, 'one': 919, 'people': 733, 'deliberately': 734, 'tamed': 735, 'artificial': 741, 'selection': 742, 'they': 745, 'were': 882, 'useful': 747, 'predators': 748, 'vermin': 750, 'domesticated': 754, 'its': 1035, 'closest': 758, 'wild': 759, 'ancestor': 760, 'are': 785, 'both': 762, 'diploid': 763, 'organisms': 764, 'that': 924, 'possess': 766, 'chromosomes': 770, 'roughly': 772, 'genes': 780, 'domestic': 783, 'similar': 786, 'size': 788, 'members': 792, 'genus': 795, 'felis': 796, 'typically': 798, 'weighing': 799, 'between': 800, 'kg': 806, 'lb': 818, 'however': 822, 'if': 824, 'piped': 828, 'redirected': 950, 'unnecessary': 834, 'with': 899, 'named': 840, 'safer': 843, 'error': 846, 'concern': 849, 'wrong': 853, 'default': 857, 'redirection': 956, 'symbol': 859, 'instead': 864, 'often': 871, 'adjacent': 872, 'on': 1174, 'keyboards': 874, 'may': 876, 'permanently': 877, 'delete': 878, 'you': 1220, 'needing': 884, 'read': 886, 'terms': 890, 'legibility': 892, 'commands': 923, 'starting': 898, 'connected': 902, 'pipes': 904, 'has': 1195, 'clear': 907, 'left': 908, 'right': 910, 'flow': 911, 'information': 913, 'command': 965, 'basic': 922, 'learned': 926, 'when': 960, 'started': 929, 'unix': 932, 'linux': 935, 'world': 936, 'using': 1077, 'lines': 944, 'received': 945, 'from': 946, 'stdin': 974, 'new': 1205, 'symbols': 957, 'type': 962, 'without': 966, 'any': 967, 'arguments': 968, 'receives': 972, 'displays': 977, 'stdout': 981, 'leopard': 1248, 'was': 1119, 'released': 1161, 'october': 988, 'successor': 1000, 'tiger': 1098, 'version': 1004, 'available': 1014, 'two': 1016, 'editions': 1017, 'according': 1020, 'apple': 1265, 'contains': 1250, 'over': 1034, 'enhancements': 1033, 'predecessor': 1036, 'mac': 1244, 'os': 1245, 'x': 1246, 'mid': 1046, 'some': 1053, 'computers': 1112, 'firmware': 1057, 'factory': 1058, 'installed': 1104, 'which': 1060, 'no': 1062, 'longer': 1063, 'allow': 1064, 'installation': 1232, 'since': 1073, 'moved': 1075, 'intel': 1078, 'processors': 1079, 'their': 1081, 'osx': 1085, 'community': 1088, 'developed': 1090, 'now': 1092, 'allows': 1094, 'later': 1100, 'releases': 1101, 'non': 1106, 'based': 1111, 'mountain': 1253, 'lion': 1214, 'july': 1122, 'purchase': 1133, 'download': 1135, 'through': 1136, 's': 1266, 'app': 1140, 'store': 1141, 'part': 1144, 'switch': 1147, 'releasing': 1203, 'versions': 1170, 'online': 1153, 'every': 1155, 'year': 1156, 'patch': 1164, 'three': 1167, 'most': 1168, 'recent': 1169, 'safari': 1172, 'running': 1173, 'yosemite': 1177, 'mavericks': 1179, 'release': 1189, 'marks': 1190, 'second': 1192, 'time': 1193, 'offered': 1196, 'an': 1234, 'incremental': 1198, 'upgrade': 1199, 'rather': 1201, 'than': 1259, 'entirely': 1207, 'installs': 1215, 'place': 1217, 'so': 1219, 'won': 1221, 't': 1222, 'need': 1223, 'create': 1225, 'separate': 1227, 'disk': 1228, 'run': 1230, 'off': 1233, 'external': 1235, 'drive': 1236, 'fifth': 1240, 'update': 1242, 'features': 1255, 'more': 1258, 'count': 1267}\n"
     ]
    }
   ],
   "source": [
    "for w in lines:\n",
    "    words[w] = x\n",
    "    x += 1\n",
    "print(words)    "
   ]
  },
  {
   "cell_type": "code",
   "execution_count": 21,
   "id": "c84b906a",
   "metadata": {},
   "outputs": [
    {
     "name": "stdout",
     "output_type": "stream",
     "text": [
      "1216\n"
     ]
    }
   ],
   "source": [
    "print(words['in'])"
   ]
  },
  {
   "cell_type": "code",
   "execution_count": null,
   "id": "6d1a17a3",
   "metadata": {},
   "outputs": [],
   "source": []
  }
 ],
 "metadata": {
  "kernelspec": {
   "display_name": "Python 3 (ipykernel)",
   "language": "python",
   "name": "python3"
  },
  "language_info": {
   "codemirror_mode": {
    "name": "ipython",
    "version": 3
   },
   "file_extension": ".py",
   "mimetype": "text/x-python",
   "name": "python",
   "nbconvert_exporter": "python",
   "pygments_lexer": "ipython3",
   "version": "3.9.7"
  }
 },
 "nbformat": 4,
 "nbformat_minor": 5
}
