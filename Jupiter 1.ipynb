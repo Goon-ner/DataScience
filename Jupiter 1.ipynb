{
 "cells": [
  {
   "cell_type": "code",
   "execution_count": 1,
   "id": "900ba365",
   "metadata": {},
   "outputs": [],
   "source": [
    "import pandas as pd"
   ]
  },
  {
   "cell_type": "code",
   "execution_count": 2,
   "id": "97b4d009",
   "metadata": {},
   "outputs": [
    {
     "data": {
      "text/plain": [
       "0     Kazan\n",
       "1    Moscow\n",
       "2       Ekb\n",
       "3     Sochi\n",
       "dtype: object"
      ]
     },
     "execution_count": 2,
     "metadata": {},
     "output_type": "execute_result"
    }
   ],
   "source": [
    "cities = pd.Series(['Kazan', 'Moscow', 'Ekb', 'Sochi'])\n",
    "cities"
   ]
  },
  {
   "cell_type": "code",
   "execution_count": 3,
   "id": "047ea410",
   "metadata": {},
   "outputs": [
    {
     "data": {
      "text/plain": [
       "0    Kazan!!!\n",
       "1      Moscow\n",
       "2         Ekb\n",
       "3       Sochi\n",
       "dtype: object"
      ]
     },
     "execution_count": 3,
     "metadata": {},
     "output_type": "execute_result"
    }
   ],
   "source": [
    "y = '!!!'\n",
    "def strplus(D):\n",
    "    if 'a' in D:\n",
    "        return D + y\n",
    "    else:\n",
    "        return D\n",
    "cities.apply(strplus)"
   ]
  },
  {
   "cell_type": "code",
   "execution_count": 4,
   "id": "c8fd7633",
   "metadata": {},
   "outputs": [
    {
     "data": {
      "text/plain": [
       "0    1\n",
       "1    2\n",
       "2    3\n",
       "3    4\n",
       "dtype: int64"
      ]
     },
     "execution_count": 4,
     "metadata": {},
     "output_type": "execute_result"
    }
   ],
   "source": [
    "dig = pd.Series([1, 2, 3, 4])\n",
    "dig"
   ]
  },
  {
   "cell_type": "code",
   "execution_count": 5,
   "id": "a73e57b8",
   "metadata": {},
   "outputs": [
    {
     "data": {
      "text/plain": [
       "0    1\n",
       "1    3\n",
       "2    3\n",
       "3    5\n",
       "dtype: int64"
      ]
     },
     "execution_count": 5,
     "metadata": {},
     "output_type": "execute_result"
    }
   ],
   "source": [
    "dig.apply(lambda x: x + 1 if x % 2 == 0 else x)"
   ]
  },
  {
   "cell_type": "code",
   "execution_count": 6,
   "id": "e8dc37ad",
   "metadata": {},
   "outputs": [
    {
     "data": {
      "text/plain": [
       "0     Kazan\n",
       "1    Moscow\n",
       "2       Ekb\n",
       "3     Sochi\n",
       "dtype: object"
      ]
     },
     "execution_count": 6,
     "metadata": {},
     "output_type": "execute_result"
    }
   ],
   "source": [
    "cities"
   ]
  },
  {
   "cell_type": "code",
   "execution_count": 7,
   "id": "ef9fc3d3",
   "metadata": {},
   "outputs": [
    {
     "data": {
      "text/plain": [
       "0    Kazan!!!\n",
       "1      Moscow\n",
       "2         Ekb\n",
       "3       Sochi\n",
       "dtype: object"
      ]
     },
     "execution_count": 7,
     "metadata": {},
     "output_type": "execute_result"
    }
   ],
   "source": [
    "cities.apply(lambda x: x + '!!!' if 'a' in x else x)"
   ]
  },
  {
   "cell_type": "code",
   "execution_count": 8,
   "id": "809d4aa6",
   "metadata": {},
   "outputs": [
    {
     "data": {
      "text/plain": [
       "0      K-a-z-a-n\n",
       "1    M-o-s-c-o-w\n",
       "2          E-k-b\n",
       "3      S-o-c-h-i\n",
       "dtype: object"
      ]
     },
     "execution_count": 8,
     "metadata": {},
     "output_type": "execute_result"
    }
   ],
   "source": [
    "def defis(x):\n",
    "    return '-'.join(x)\n",
    "    \n",
    "cities.apply(defis)"
   ]
  },
  {
   "cell_type": "code",
   "execution_count": 33,
   "id": "b59eecef",
   "metadata": {},
   "outputs": [],
   "source": [
    "cap_df = pd.read_excel('cap.xlsx')"
   ]
  },
  {
   "cell_type": "code",
   "execution_count": 16,
   "id": "accd11b9",
   "metadata": {},
   "outputs": [],
   "source": [
    "cap = cap_df[0]"
   ]
  },
  {
   "cell_type": "code",
   "execution_count": 34,
   "id": "5cb50eb5",
   "metadata": {},
   "outputs": [
    {
     "data": {
      "text/html": [
       "<div>\n",
       "<style scoped>\n",
       "    .dataframe tbody tr th:only-of-type {\n",
       "        vertical-align: middle;\n",
       "    }\n",
       "\n",
       "    .dataframe tbody tr th {\n",
       "        vertical-align: top;\n",
       "    }\n",
       "\n",
       "    .dataframe thead th {\n",
       "        text-align: right;\n",
       "    }\n",
       "</style>\n",
       "<table border=\"1\" class=\"dataframe\">\n",
       "  <thead>\n",
       "    <tr style=\"text-align: right;\">\n",
       "      <th></th>\n",
       "      <th>Unnamed: 0</th>\n",
       "      <th>#</th>\n",
       "      <th>Name</th>\n",
       "      <th>Price</th>\n",
       "      <th>24h %</th>\n",
       "      <th>7d %</th>\n",
       "      <th>Market Cap</th>\n",
       "      <th>Volume(24h)</th>\n",
       "      <th>Circulating Supply</th>\n",
       "      <th>Last 7 Days</th>\n",
       "      <th>Unnamed: 10</th>\n",
       "    </tr>\n",
       "  </thead>\n",
       "  <tbody>\n",
       "    <tr>\n",
       "      <th>0</th>\n",
       "      <td>NaN</td>\n",
       "      <td>1.0</td>\n",
       "      <td>Bitcoin1BTCBuy</td>\n",
       "      <td>$47,229.08</td>\n",
       "      <td>0.34%</td>\n",
       "      <td>10.85%</td>\n",
       "      <td>$897.23B$897,227,650,621</td>\n",
       "      <td>$33,847,129,797716,659 BTC</td>\n",
       "      <td>18,997,356 BTC</td>\n",
       "      <td>NaN</td>\n",
       "      <td>NaN</td>\n",
       "    </tr>\n",
       "    <tr>\n",
       "      <th>1</th>\n",
       "      <td>NaN</td>\n",
       "      <td>2.0</td>\n",
       "      <td>Ethereum2ETHBuy</td>\n",
       "      <td>$3,393.88</td>\n",
       "      <td>1.06%</td>\n",
       "      <td>12.82%</td>\n",
       "      <td>$407.81B$407,812,432,230</td>\n",
       "      <td>$21,154,798,5346,233,223 ETH</td>\n",
       "      <td>120,161,193 ETH</td>\n",
       "      <td>NaN</td>\n",
       "      <td>NaN</td>\n",
       "    </tr>\n",
       "    <tr>\n",
       "      <th>2</th>\n",
       "      <td>NaN</td>\n",
       "      <td>3.0</td>\n",
       "      <td>Tether3USDT</td>\n",
       "      <td>$1.00</td>\n",
       "      <td>0.01%</td>\n",
       "      <td>0.01%</td>\n",
       "      <td>$81.58B$81,580,248,060</td>\n",
       "      <td>$84,024,506,77183,982,780,918 USDT</td>\n",
       "      <td>81,539,736,005 USDT</td>\n",
       "      <td>NaN</td>\n",
       "      <td>NaN</td>\n",
       "    </tr>\n",
       "    <tr>\n",
       "      <th>3</th>\n",
       "      <td>NaN</td>\n",
       "      <td>4.0</td>\n",
       "      <td>BNB4BNBBuy</td>\n",
       "      <td>$430.85</td>\n",
       "      <td>1.22%</td>\n",
       "      <td>6.04%</td>\n",
       "      <td>$71.14B$71,140,873,243</td>\n",
       "      <td>$2,036,878,5714,727,561 BNB</td>\n",
       "      <td>165,116,761 BNB</td>\n",
       "      <td>NaN</td>\n",
       "      <td>NaN</td>\n",
       "    </tr>\n",
       "    <tr>\n",
       "      <th>4</th>\n",
       "      <td>NaN</td>\n",
       "      <td>5.0</td>\n",
       "      <td>USD Coin5USDC</td>\n",
       "      <td>$0.9997</td>\n",
       "      <td>0.02%</td>\n",
       "      <td>0.01%</td>\n",
       "      <td>$51.80B$51,795,877,698</td>\n",
       "      <td>$4,822,603,7794,823,959,041 USDC</td>\n",
       "      <td>51,810,433,523 USDC</td>\n",
       "      <td>NaN</td>\n",
       "      <td>NaN</td>\n",
       "    </tr>\n",
       "  </tbody>\n",
       "</table>\n",
       "</div>"
      ],
      "text/plain": [
       "   Unnamed: 0    #             Name       Price  24h %    7d %  \\\n",
       "0         NaN  1.0   Bitcoin1BTCBuy  $47,229.08  0.34%  10.85%   \n",
       "1         NaN  2.0  Ethereum2ETHBuy   $3,393.88  1.06%  12.82%   \n",
       "2         NaN  3.0      Tether3USDT       $1.00  0.01%   0.01%   \n",
       "3         NaN  4.0       BNB4BNBBuy     $430.85  1.22%   6.04%   \n",
       "4         NaN  5.0    USD Coin5USDC     $0.9997  0.02%   0.01%   \n",
       "\n",
       "                 Market Cap                         Volume(24h)  \\\n",
       "0  $897.23B$897,227,650,621          $33,847,129,797716,659 BTC   \n",
       "1  $407.81B$407,812,432,230        $21,154,798,5346,233,223 ETH   \n",
       "2    $81.58B$81,580,248,060  $84,024,506,77183,982,780,918 USDT   \n",
       "3    $71.14B$71,140,873,243         $2,036,878,5714,727,561 BNB   \n",
       "4    $51.80B$51,795,877,698    $4,822,603,7794,823,959,041 USDC   \n",
       "\n",
       "    Circulating Supply  Last 7 Days  Unnamed: 10  \n",
       "0       18,997,356 BTC          NaN          NaN  \n",
       "1      120,161,193 ETH          NaN          NaN  \n",
       "2  81,539,736,005 USDT          NaN          NaN  \n",
       "3      165,116,761 BNB          NaN          NaN  \n",
       "4  51,810,433,523 USDC          NaN          NaN  "
      ]
     },
     "execution_count": 34,
     "metadata": {},
     "output_type": "execute_result"
    }
   ],
   "source": [
    "cap.head()"
   ]
  },
  {
   "cell_type": "code",
   "execution_count": 39,
   "id": "87162a7b",
   "metadata": {},
   "outputs": [
    {
     "data": {
      "text/html": [
       "<div>\n",
       "<style scoped>\n",
       "    .dataframe tbody tr th:only-of-type {\n",
       "        vertical-align: middle;\n",
       "    }\n",
       "\n",
       "    .dataframe tbody tr th {\n",
       "        vertical-align: top;\n",
       "    }\n",
       "\n",
       "    .dataframe thead th {\n",
       "        text-align: right;\n",
       "    }\n",
       "</style>\n",
       "<table border=\"1\" class=\"dataframe\">\n",
       "  <thead>\n",
       "    <tr style=\"text-align: right;\">\n",
       "      <th></th>\n",
       "      <th>Unnamed: 0</th>\n",
       "      <th>#</th>\n",
       "      <th>Name</th>\n",
       "      <th>Price</th>\n",
       "      <th>24h %</th>\n",
       "      <th>7d %</th>\n",
       "      <th>Market Cap</th>\n",
       "      <th>Volume(24h)</th>\n",
       "      <th>Circulating Supply</th>\n",
       "      <th>Last 7 Days</th>\n",
       "      <th>Unnamed: 10</th>\n",
       "    </tr>\n",
       "  </thead>\n",
       "  <tbody>\n",
       "    <tr>\n",
       "      <th>0</th>\n",
       "      <td>NaN</td>\n",
       "      <td>1.0</td>\n",
       "      <td>Bitcoin1BTCBuy</td>\n",
       "      <td>$47,229.08</td>\n",
       "      <td>0.34%</td>\n",
       "      <td>10.85%</td>\n",
       "      <td>$897.23B$897,227,650,621</td>\n",
       "      <td>$33,847,129,797716,659 BTC</td>\n",
       "      <td>18,997,356 BTC</td>\n",
       "      <td>NaN</td>\n",
       "      <td>NaN</td>\n",
       "    </tr>\n",
       "    <tr>\n",
       "      <th>1</th>\n",
       "      <td>NaN</td>\n",
       "      <td>2.0</td>\n",
       "      <td>Ethereum2ETHBuy</td>\n",
       "      <td>$3,393.88</td>\n",
       "      <td>1.06%</td>\n",
       "      <td>12.82%</td>\n",
       "      <td>$407.81B$407,812,432,230</td>\n",
       "      <td>$21,154,798,5346,233,223 ETH</td>\n",
       "      <td>120,161,193 ETH</td>\n",
       "      <td>NaN</td>\n",
       "      <td>NaN</td>\n",
       "    </tr>\n",
       "    <tr>\n",
       "      <th>2</th>\n",
       "      <td>NaN</td>\n",
       "      <td>3.0</td>\n",
       "      <td>Tether3USDT</td>\n",
       "      <td>$1.00</td>\n",
       "      <td>0.01%</td>\n",
       "      <td>0.01%</td>\n",
       "      <td>$81.58B$81,580,248,060</td>\n",
       "      <td>$84,024,506,77183,982,780,918 USDT</td>\n",
       "      <td>81,539,736,005 USDT</td>\n",
       "      <td>NaN</td>\n",
       "      <td>NaN</td>\n",
       "    </tr>\n",
       "    <tr>\n",
       "      <th>3</th>\n",
       "      <td>NaN</td>\n",
       "      <td>4.0</td>\n",
       "      <td>BNB4BNBBuy</td>\n",
       "      <td>$430.85</td>\n",
       "      <td>1.22%</td>\n",
       "      <td>6.04%</td>\n",
       "      <td>$71.14B$71,140,873,243</td>\n",
       "      <td>$2,036,878,5714,727,561 BNB</td>\n",
       "      <td>165,116,761 BNB</td>\n",
       "      <td>NaN</td>\n",
       "      <td>NaN</td>\n",
       "    </tr>\n",
       "    <tr>\n",
       "      <th>4</th>\n",
       "      <td>NaN</td>\n",
       "      <td>5.0</td>\n",
       "      <td>USD Coin5USDC</td>\n",
       "      <td>$0.9997</td>\n",
       "      <td>0.02%</td>\n",
       "      <td>0.01%</td>\n",
       "      <td>$51.80B$51,795,877,698</td>\n",
       "      <td>$4,822,603,7794,823,959,041 USDC</td>\n",
       "      <td>51,810,433,523 USDC</td>\n",
       "      <td>NaN</td>\n",
       "      <td>NaN</td>\n",
       "    </tr>\n",
       "    <tr>\n",
       "      <th>...</th>\n",
       "      <td>...</td>\n",
       "      <td>...</td>\n",
       "      <td>...</td>\n",
       "      <td>...</td>\n",
       "      <td>...</td>\n",
       "      <td>...</td>\n",
       "      <td>...</td>\n",
       "      <td>...</td>\n",
       "      <td>...</td>\n",
       "      <td>...</td>\n",
       "      <td>...</td>\n",
       "    </tr>\n",
       "    <tr>\n",
       "      <th>95</th>\n",
       "      <td>NaN</td>\n",
       "      <td>NaN</td>\n",
       "      <td>SymbolXYM</td>\n",
       "      <td>$0.15</td>\n",
       "      <td>NaN</td>\n",
       "      <td>NaN</td>\n",
       "      <td>NaN</td>\n",
       "      <td>NaN</td>\n",
       "      <td>NaN</td>\n",
       "      <td>NaN</td>\n",
       "      <td>NaN</td>\n",
       "    </tr>\n",
       "    <tr>\n",
       "      <th>96</th>\n",
       "      <td>NaN</td>\n",
       "      <td>NaN</td>\n",
       "      <td>yearn.financeYFI</td>\n",
       "      <td>$22589.62</td>\n",
       "      <td>NaN</td>\n",
       "      <td>NaN</td>\n",
       "      <td>NaN</td>\n",
       "      <td>NaN</td>\n",
       "      <td>NaN</td>\n",
       "      <td>NaN</td>\n",
       "      <td>NaN</td>\n",
       "    </tr>\n",
       "    <tr>\n",
       "      <th>97</th>\n",
       "      <td>NaN</td>\n",
       "      <td>NaN</td>\n",
       "      <td>QtumQTUM</td>\n",
       "      <td>$8.24</td>\n",
       "      <td>NaN</td>\n",
       "      <td>NaN</td>\n",
       "      <td>NaN</td>\n",
       "      <td>NaN</td>\n",
       "      <td>NaN</td>\n",
       "      <td>NaN</td>\n",
       "      <td>NaN</td>\n",
       "    </tr>\n",
       "    <tr>\n",
       "      <th>98</th>\n",
       "      <td>NaN</td>\n",
       "      <td>NaN</td>\n",
       "      <td>CelsiusCEL</td>\n",
       "      <td>$3.41</td>\n",
       "      <td>NaN</td>\n",
       "      <td>NaN</td>\n",
       "      <td>NaN</td>\n",
       "      <td>NaN</td>\n",
       "      <td>NaN</td>\n",
       "      <td>NaN</td>\n",
       "      <td>NaN</td>\n",
       "    </tr>\n",
       "    <tr>\n",
       "      <th>99</th>\n",
       "      <td>NaN</td>\n",
       "      <td>NaN</td>\n",
       "      <td>BORABORA</td>\n",
       "      <td>$0.93</td>\n",
       "      <td>NaN</td>\n",
       "      <td>NaN</td>\n",
       "      <td>NaN</td>\n",
       "      <td>NaN</td>\n",
       "      <td>NaN</td>\n",
       "      <td>NaN</td>\n",
       "      <td>NaN</td>\n",
       "    </tr>\n",
       "  </tbody>\n",
       "</table>\n",
       "<p>100 rows × 11 columns</p>\n",
       "</div>"
      ],
      "text/plain": [
       "    Unnamed: 0    #              Name       Price  24h %    7d %  \\\n",
       "0          NaN  1.0    Bitcoin1BTCBuy  $47,229.08  0.34%  10.85%   \n",
       "1          NaN  2.0   Ethereum2ETHBuy   $3,393.88  1.06%  12.82%   \n",
       "2          NaN  3.0       Tether3USDT       $1.00  0.01%   0.01%   \n",
       "3          NaN  4.0        BNB4BNBBuy     $430.85  1.22%   6.04%   \n",
       "4          NaN  5.0     USD Coin5USDC     $0.9997  0.02%   0.01%   \n",
       "..         ...  ...               ...         ...    ...     ...   \n",
       "95         NaN  NaN         SymbolXYM       $0.15    NaN     NaN   \n",
       "96         NaN  NaN  yearn.financeYFI   $22589.62    NaN     NaN   \n",
       "97         NaN  NaN          QtumQTUM       $8.24    NaN     NaN   \n",
       "98         NaN  NaN        CelsiusCEL       $3.41    NaN     NaN   \n",
       "99         NaN  NaN          BORABORA       $0.93    NaN     NaN   \n",
       "\n",
       "                  Market Cap                         Volume(24h)  \\\n",
       "0   $897.23B$897,227,650,621          $33,847,129,797716,659 BTC   \n",
       "1   $407.81B$407,812,432,230        $21,154,798,5346,233,223 ETH   \n",
       "2     $81.58B$81,580,248,060  $84,024,506,77183,982,780,918 USDT   \n",
       "3     $71.14B$71,140,873,243         $2,036,878,5714,727,561 BNB   \n",
       "4     $51.80B$51,795,877,698    $4,822,603,7794,823,959,041 USDC   \n",
       "..                       ...                                 ...   \n",
       "95                       NaN                                 NaN   \n",
       "96                       NaN                                 NaN   \n",
       "97                       NaN                                 NaN   \n",
       "98                       NaN                                 NaN   \n",
       "99                       NaN                                 NaN   \n",
       "\n",
       "     Circulating Supply  Last 7 Days  Unnamed: 10  \n",
       "0        18,997,356 BTC          NaN          NaN  \n",
       "1       120,161,193 ETH          NaN          NaN  \n",
       "2   81,539,736,005 USDT          NaN          NaN  \n",
       "3       165,116,761 BNB          NaN          NaN  \n",
       "4   51,810,433,523 USDC          NaN          NaN  \n",
       "..                  ...          ...          ...  \n",
       "95                  NaN          NaN          NaN  \n",
       "96                  NaN          NaN          NaN  \n",
       "97                  NaN          NaN          NaN  \n",
       "98                  NaN          NaN          NaN  \n",
       "99                  NaN          NaN          NaN  \n",
       "\n",
       "[100 rows x 11 columns]"
      ]
     },
     "execution_count": 39,
     "metadata": {},
     "output_type": "execute_result"
    }
   ],
   "source": [
    "cap"
   ]
  },
  {
   "cell_type": "code",
   "execution_count": 36,
   "id": "c6495977",
   "metadata": {},
   "outputs": [
    {
     "data": {
      "text/plain": [
       "'$3,393.88'"
      ]
     },
     "execution_count": 36,
     "metadata": {},
     "output_type": "execute_result"
    }
   ],
   "source": [
    "cap['Price'][1]"
   ]
  },
  {
   "cell_type": "code",
   "execution_count": 37,
   "id": "7cd1e9f3",
   "metadata": {},
   "outputs": [
    {
     "data": {
      "text/html": [
       "<div>\n",
       "<style scoped>\n",
       "    .dataframe tbody tr th:only-of-type {\n",
       "        vertical-align: middle;\n",
       "    }\n",
       "\n",
       "    .dataframe tbody tr th {\n",
       "        vertical-align: top;\n",
       "    }\n",
       "\n",
       "    .dataframe thead th {\n",
       "        text-align: right;\n",
       "    }\n",
       "</style>\n",
       "<table border=\"1\" class=\"dataframe\">\n",
       "  <thead>\n",
       "    <tr style=\"text-align: right;\">\n",
       "      <th></th>\n",
       "      <th>Name</th>\n",
       "      <th>Price</th>\n",
       "      <th>7d %</th>\n",
       "      <th>Volume(24h)</th>\n",
       "    </tr>\n",
       "  </thead>\n",
       "  <tbody>\n",
       "    <tr>\n",
       "      <th>0</th>\n",
       "      <td>Bitcoin1BTCBuy</td>\n",
       "      <td>$47,229.08</td>\n",
       "      <td>10.85%</td>\n",
       "      <td>$33,847,129,797716,659 BTC</td>\n",
       "    </tr>\n",
       "    <tr>\n",
       "      <th>1</th>\n",
       "      <td>Ethereum2ETHBuy</td>\n",
       "      <td>$3,393.88</td>\n",
       "      <td>12.82%</td>\n",
       "      <td>$21,154,798,5346,233,223 ETH</td>\n",
       "    </tr>\n",
       "    <tr>\n",
       "      <th>2</th>\n",
       "      <td>Tether3USDT</td>\n",
       "      <td>$1.00</td>\n",
       "      <td>0.01%</td>\n",
       "      <td>$84,024,506,77183,982,780,918 USDT</td>\n",
       "    </tr>\n",
       "    <tr>\n",
       "      <th>3</th>\n",
       "      <td>BNB4BNBBuy</td>\n",
       "      <td>$430.85</td>\n",
       "      <td>6.04%</td>\n",
       "      <td>$2,036,878,5714,727,561 BNB</td>\n",
       "    </tr>\n",
       "    <tr>\n",
       "      <th>4</th>\n",
       "      <td>USD Coin5USDC</td>\n",
       "      <td>$0.9997</td>\n",
       "      <td>0.01%</td>\n",
       "      <td>$4,822,603,7794,823,959,041 USDC</td>\n",
       "    </tr>\n",
       "    <tr>\n",
       "      <th>5</th>\n",
       "      <td>XRP6XRP</td>\n",
       "      <td>$0.8532</td>\n",
       "      <td>1.62%</td>\n",
       "      <td>$2,702,989,6483,168,056,047 XRP</td>\n",
       "    </tr>\n",
       "    <tr>\n",
       "      <th>6</th>\n",
       "      <td>Cardano7ADA</td>\n",
       "      <td>$1.18</td>\n",
       "      <td>21.35%</td>\n",
       "      <td>$1,965,277,3901,663,683,577 ADA</td>\n",
       "    </tr>\n",
       "    <tr>\n",
       "      <th>7</th>\n",
       "      <td>Terra8LUNABuy</td>\n",
       "      <td>$105.20</td>\n",
       "      <td>13.05%</td>\n",
       "      <td>$4,191,629,43139,846,037 LUNA</td>\n",
       "    </tr>\n",
       "    <tr>\n",
       "      <th>8</th>\n",
       "      <td>Solana9SOLBuy</td>\n",
       "      <td>$109.54</td>\n",
       "      <td>17.39%</td>\n",
       "      <td>$3,113,738,68528,424,972 SOL</td>\n",
       "    </tr>\n",
       "    <tr>\n",
       "      <th>9</th>\n",
       "      <td>Avalanche10AVAXBuy</td>\n",
       "      <td>$91.87</td>\n",
       "      <td>6.21%</td>\n",
       "      <td>$1,911,412,20620,805,949 AVAX</td>\n",
       "    </tr>\n",
       "  </tbody>\n",
       "</table>\n",
       "</div>"
      ],
      "text/plain": [
       "                 Name       Price    7d %                         Volume(24h)\n",
       "0      Bitcoin1BTCBuy  $47,229.08  10.85%          $33,847,129,797716,659 BTC\n",
       "1     Ethereum2ETHBuy   $3,393.88  12.82%        $21,154,798,5346,233,223 ETH\n",
       "2         Tether3USDT       $1.00   0.01%  $84,024,506,77183,982,780,918 USDT\n",
       "3          BNB4BNBBuy     $430.85   6.04%         $2,036,878,5714,727,561 BNB\n",
       "4       USD Coin5USDC     $0.9997   0.01%    $4,822,603,7794,823,959,041 USDC\n",
       "5             XRP6XRP     $0.8532   1.62%     $2,702,989,6483,168,056,047 XRP\n",
       "6         Cardano7ADA       $1.18  21.35%     $1,965,277,3901,663,683,577 ADA\n",
       "7       Terra8LUNABuy     $105.20  13.05%       $4,191,629,43139,846,037 LUNA\n",
       "8       Solana9SOLBuy     $109.54  17.39%        $3,113,738,68528,424,972 SOL\n",
       "9  Avalanche10AVAXBuy      $91.87   6.21%       $1,911,412,20620,805,949 AVAX"
      ]
     },
     "execution_count": 37,
     "metadata": {},
     "output_type": "execute_result"
    }
   ],
   "source": [
    "cap.iloc[:10 , [2, 3, 5, 7]]"
   ]
  }
 ],
 "metadata": {
  "kernelspec": {
   "display_name": "Python 3 (ipykernel)",
   "language": "python",
   "name": "python3"
  },
  "language_info": {
   "codemirror_mode": {
    "name": "ipython",
    "version": 3
   },
   "file_extension": ".py",
   "mimetype": "text/x-python",
   "name": "python",
   "nbconvert_exporter": "python",
   "pygments_lexer": "ipython3",
   "version": "3.9.7"
  }
 },
 "nbformat": 4,
 "nbformat_minor": 5
}
