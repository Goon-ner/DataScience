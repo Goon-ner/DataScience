{
 "cells": [
  {
   "cell_type": "code",
   "execution_count": 1,
   "id": "77085227",
   "metadata": {},
   "outputs": [],
   "source": [
    "from gensim import corpora, models"
   ]
  },
  {
   "cell_type": "code",
   "execution_count": 3,
   "id": "766cd61f",
   "metadata": {},
   "outputs": [],
   "source": [
    "# Импортируем данные в формте UCI Bag of Words\n",
    "data = corpora.UciCorpus(\"docword.xkcd.txt\", \"vocab.xkcd.txt\")\n",
    "dictionary = data.create_dictionary()"
   ]
  },
  {
   "cell_type": "code",
   "execution_count": 7,
   "id": "ca0927b4",
   "metadata": {},
   "outputs": [
    {
     "name": "stdout",
     "output_type": "stream",
     "text": [
      "CPU times: total: 13.4 s\n",
      "Wall time: 13.5 s\n"
     ]
    }
   ],
   "source": [
    "# обучение модель\n",
    "%time ldamodel = models.ldamodel.LdaModel(data, id2word=dictionary, num_topics=5, passes=20, alpha=1.25, eta=1.25)"
   ]
  },
  {
   "cell_type": "code",
   "execution_count": 8,
   "id": "886c11f1",
   "metadata": {},
   "outputs": [],
   "source": [
    "# Сохранение модели\n",
    "# ldamodel.save(\"ldamodel_xkcd\")"
   ]
  },
  {
   "cell_type": "code",
   "execution_count": 9,
   "id": "77383e35",
   "metadata": {},
   "outputs": [],
   "source": [
    "# Загрузка модели\n",
    "# ldamodel = models.ldamodel.LdaModel.load(\"ldamodel_xkcd\")"
   ]
  },
  {
   "cell_type": "code",
   "execution_count": 10,
   "id": "7e5f78db",
   "metadata": {},
   "outputs": [
    {
     "name": "stdout",
     "output_type": "stream",
     "text": [
      "Topic 0 : 0.002*\"b'scientist'\" + 0.002*\"b'goggles'\" + 0.001*\"b'paul'\" + 0.001*\"b'ron'\" + 0.001*\"b'link'\" + 0.001*\"b'jelly'\" + 0.001*\"b'found'\" + 0.001*\"b'bean'\" + 0.001*\"b'han'\" + 0.001*\"b'acne'\"\n",
      "Topic 1 : 0.003*\"b'exhibit'\" + 0.001*\"b'nathan'\" + 0.001*\"b'label'\" + 0.001*\"b'unallocated'\" + 0.001*\"b'dad'\" + 0.001*\"b'peak'\" + 0.001*\"b'easy'\" + 0.001*\"b'egg'\" + 0.001*\"b'randall'\" + 0.001*\"b'tasty'\"\n",
      "Topic 2 : 0.003*\"b'boy'\" + 0.002*\"b'part'\" + 0.002*\"b'within'\" + 0.001*\"b'relation'\" + 0.001*\"b'accurate'\" + 0.001*\"b'one'\" + 0.001*\"b'list'\" + 0.001*\"b'bag'\" + 0.001*\"b'spider'\" + 0.001*\"b'space'\"\n",
      "Topic 3 : 0.002*\"b'wait'\" + 0.002*\"b'map'\" + 0.002*\"b'island'\" + 0.002*\"b'peter'\" + 0.002*\"b'sagal'\" + 0.001*\"b'blogs'\" + 0.001*\"b'hurricane'\" + 0.001*\"b'sea'\" + 0.001*\"b'bay'\" + 0.001*\"b'dont'\"\n",
      "Topic 4 : 0.022*\"b'man'\" + 0.012*\"b'text'\" + 0.011*\"b'person'\" + 0.010*\"b'title'\" + 0.009*\"b'woman'\" + 0.008*\"b'guy'\" + 0.006*\"b'one'\" + 0.005*\"b'girl'\" + 0.005*\"b'just'\" + 0.005*\"b'two'\"\n"
     ]
    }
   ],
   "source": [
    "# выводим топы слов\n",
    "for t, top_words in ldamodel.print_topics(num_topics=10, num_words=10):\n",
    "    print(\"Topic\", t, \":\", top_words)"
   ]
  },
  {
   "cell_type": "code",
   "execution_count": 11,
   "id": "ce0ca433",
   "metadata": {},
   "outputs": [
    {
     "name": "stdout",
     "output_type": "stream",
     "text": [
      "348.3436665283056\n"
     ]
    }
   ],
   "source": [
    "# Вычисляем логарифм перплексии и немного преобразуем, чтобы привести к общепринятому виду\n",
    "perplexity = ldamodel.log_perplexity(list(data))\n",
    "print(2**(-perplexity))"
   ]
  },
  {
   "cell_type": "code",
   "execution_count": 12,
   "id": "157def34",
   "metadata": {},
   "outputs": [
    {
     "data": {
      "text/plain": [
       "348.34366767987666"
      ]
     },
     "execution_count": 12,
     "metadata": {},
     "output_type": "execute_result"
    }
   ],
   "source": [
    "perp = ldamodel.bound(data)\n",
    "2**(-perp/float(87409))"
   ]
  },
  {
   "cell_type": "code",
   "execution_count": 13,
   "id": "dab3a8d2",
   "metadata": {},
   "outputs": [
    {
     "ename": "NameError",
     "evalue": "name 'data2' is not defined",
     "output_type": "error",
     "traceback": [
      "\u001b[1;31m---------------------------------------------------------------------------\u001b[0m",
      "\u001b[1;31mNameError\u001b[0m                                 Traceback (most recent call last)",
      "Input \u001b[1;32mIn [13]\u001b[0m, in \u001b[0;36m<cell line: 2>\u001b[1;34m()\u001b[0m\n\u001b[0;32m      1\u001b[0m \u001b[38;5;66;03m# Добавление в модель новых документов, содержащихся в новом корупсе data2\u001b[39;00m\n\u001b[1;32m----> 2\u001b[0m ldamodel\u001b[38;5;241m.\u001b[39mupdate(\u001b[43mdata2\u001b[49m, passes\u001b[38;5;241m=\u001b[39m\u001b[38;5;241m10\u001b[39m)\n",
      "\u001b[1;31mNameError\u001b[0m: name 'data2' is not defined"
     ]
    }
   ],
   "source": [
    "# Добавление в модель новых документов, содержащихся в новом корупсе data2\n",
    "ldamodel.update(data2, passes=10)"
   ]
  },
  {
   "cell_type": "code",
   "execution_count": 14,
   "id": "1d29d89c",
   "metadata": {},
   "outputs": [
    {
     "data": {
      "text/plain": [
       "[(0, 0.06896827),\n",
       " (1, 0.05784775),\n",
       " (2, 0.16743861),\n",
       " (3, 0.057077214),\n",
       " (4, 0.6486681)]"
      ]
     },
     "execution_count": 14,
     "metadata": {},
     "output_type": "execute_result"
    }
   ],
   "source": [
    "# Получение распределения тем для конкретного документа\n",
    "doc = list(data)[0]\n",
    "ldamodel.get_document_topics(doc)"
   ]
  },
  {
   "cell_type": "code",
   "execution_count": null,
   "id": "f3d5a526",
   "metadata": {},
   "outputs": [],
   "source": []
  }
 ],
 "metadata": {
  "kernelspec": {
   "display_name": "Python 3 (ipykernel)",
   "language": "python",
   "name": "python3"
  },
  "language_info": {
   "codemirror_mode": {
    "name": "ipython",
    "version": 3
   },
   "file_extension": ".py",
   "mimetype": "text/x-python",
   "name": "python",
   "nbconvert_exporter": "python",
   "pygments_lexer": "ipython3",
   "version": "3.9.12"
  }
 },
 "nbformat": 4,
 "nbformat_minor": 5
}
