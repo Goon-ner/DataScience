{
 "cells": [
  {
   "cell_type": "code",
   "execution_count": 12,
   "id": "7109ba43",
   "metadata": {},
   "outputs": [],
   "source": [
    "import numpy as np\n",
    "import math\n",
    "import matplotlib.pylab as plt\n",
    "from scipy.optimize import minimize\n",
    "from scipy.optimize import differential_evolution"
   ]
  },
  {
   "cell_type": "code",
   "execution_count": 2,
   "id": "304a2241",
   "metadata": {},
   "outputs": [],
   "source": [
    "# f(x) = sin(x / 5) * exp(x / 10) + 5 * exp(-x / 2)\n",
    "def functQuiz(x):\n",
    "    f = np.sin(x / 5.) * np.exp(x /10.) + 5 * np.exp(-x /2.)\n",
    "    return f"
   ]
  },
  {
   "cell_type": "code",
   "execution_count": 3,
   "id": "a5c53c76",
   "metadata": {},
   "outputs": [],
   "source": [
    "xPoints = np.arange(1, 30, 0.1)"
   ]
  },
  {
   "cell_type": "code",
   "execution_count": 4,
   "id": "628cd017",
   "metadata": {},
   "outputs": [],
   "source": [
    "yPoints = []\n",
    "for x in xPoints:\n",
    "    yPoints.append(functQuiz(x))"
   ]
  },
  {
   "cell_type": "code",
   "execution_count": 5,
   "id": "9d49e908",
   "metadata": {},
   "outputs": [
    {
     "data": {
      "text/plain": [
       "[<matplotlib.lines.Line2D at 0x1a519309e80>]"
      ]
     },
     "execution_count": 5,
     "metadata": {},
     "output_type": "execute_result"
    },
    {
     "data": {
      "image/png": "[encoded data removed]",
      "text/plain": [
       "<Figure size 432x288 with 1 Axes>"
      ]
     },
     "metadata": {
      "needs_background": "light"
     },
     "output_type": "display_data"
    }
   ],
   "source": [
    "plt.plot(xPoints, yPoints)"
   ]
  },
  {
   "cell_type": "code",
   "execution_count": 6,
   "id": "9c83ad2b",
   "metadata": {},
   "outputs": [],
   "source": [
    "fx = functQuiz\n",
    "yPoints = list(map(fx, xPoints))"
   ]
  },
  {
   "cell_type": "code",
   "execution_count": 7,
   "id": "6422d238",
   "metadata": {},
   "outputs": [
    {
     "data": {
      "text/plain": [
       "[<matplotlib.lines.Line2D at 0x1a519411ca0>]"
      ]
     },
     "execution_count": 7,
     "metadata": {},
     "output_type": "execute_result"
    },
    {
     "data": {
      "image/png": "[encoded data removed]",
      "text/plain": [
       "<Figure size 432x288 with 1 Axes>"
      ]
     },
     "metadata": {
      "needs_background": "light"
     },
     "output_type": "display_data"
    }
   ],
   "source": [
    "plt.plot(xPoints, yPoints)"
   ]
  },
  {
   "cell_type": "code",
   "execution_count": 8,
   "id": "0860a473",
   "metadata": {},
   "outputs": [
    {
     "name": "stdout",
     "output_type": "stream",
     "text": [
      "iteration -  1\n",
      "      fun: 1.745268290332218\n",
      " hess_inv: array([[6.01541998]])\n",
      "      jac: array([-2.68220901e-07])\n",
      "  message: 'Optimization terminated successfully.'\n",
      "     nfev: 16\n",
      "      nit: 7\n",
      "     njev: 8\n",
      "   status: 0\n",
      "  success: True\n",
      "        x: array([4.13628697])\n",
      "------------------\n",
      "iteration -  6\n",
      "      fun: 1.7452682903320773\n",
      " hess_inv: array([[6.01011737]])\n",
      "      jac: array([1.93715096e-07])\n",
      "  message: 'Optimization terminated successfully.'\n",
      "     nfev: 16\n",
      "      nit: 5\n",
      "     njev: 8\n",
      "   status: 0\n",
      "  success: True\n",
      "        x: array([4.13628982])\n",
      "------------------\n",
      "iteration -  11\n",
      "      fun: -11.898894665981311\n",
      " hess_inv: array([[123.27588322]])\n",
      "      jac: array([-1.1920929e-07])\n",
      "  message: 'Optimization terminated successfully.'\n",
      "     nfev: 42\n",
      "      nit: 2\n",
      "     njev: 21\n",
      "   status: 0\n",
      "  success: True\n",
      "        x: array([25.88019285])\n",
      "------------------\n",
      "iteration -  16\n",
      "      fun: -11.898894665971541\n",
      " hess_inv: array([[9.34365273]])\n",
      "      jac: array([3.4570694e-06])\n",
      "  message: 'Optimization terminated successfully.'\n",
      "     nfev: 16\n",
      "      nit: 2\n",
      "     njev: 8\n",
      "   status: 0\n",
      "  success: True\n",
      "        x: array([25.88019877])\n",
      "------------------\n",
      "iteration -  21\n",
      "      fun: -11.898894665932263\n",
      " hess_inv: array([[1.69932016]])\n",
      "      jac: array([7.74860382e-06])\n",
      "  message: 'Optimization terminated successfully.'\n",
      "     nfev: 14\n",
      "      nit: 5\n",
      "     njev: 7\n",
      "   status: 0\n",
      "  success: True\n",
      "        x: array([25.88020587])\n",
      "------------------\n",
      "iteration -  26\n",
      "      fun: -11.898894665979789\n",
      " hess_inv: array([[1.67276794]])\n",
      "      jac: array([1.43051147e-06])\n",
      "  message: 'Optimization terminated successfully.'\n",
      "     nfev: 8\n",
      "      nit: 3\n",
      "     njev: 4\n",
      "   status: 0\n",
      "  success: True\n",
      "        x: array([25.8801953])\n",
      "------------------\n"
     ]
    }
   ],
   "source": [
    "for x in range(1, 30, 5):\n",
    "    k = minimize(fx, x)\n",
    "    print('iteration - ', x)\n",
    "    print(k)\n",
    "    print('------------------')"
   ]
  },
  {
   "cell_type": "code",
   "execution_count": 9,
   "id": "0308a0bb",
   "metadata": {},
   "outputs": [
    {
     "name": "stdout",
     "output_type": "stream",
     "text": [
      "BFGS - 2\n",
      "      fun: 1.7452682903447336\n",
      " hess_inv: array([[5.98752645]])\n",
      "      jac: array([-2.04145908e-06])\n",
      "  message: 'Optimization terminated successfully.'\n",
      "     nfev: 14\n",
      "      nit: 6\n",
      "     njev: 7\n",
      "   status: 0\n",
      "  success: True\n",
      "        x: array([4.13627628])\n",
      "------------------\n",
      "BFGS - 30\n",
      "      fun: -11.898894665981313\n",
      " hess_inv: array([[1.67936744]])\n",
      "      jac: array([0.])\n",
      "  message: 'Optimization terminated successfully.'\n",
      "     nfev: 14\n",
      "      nit: 6\n",
      "     njev: 7\n",
      "   status: 0\n",
      "  success: True\n",
      "        x: array([25.88019321])\n",
      "------------------\n"
     ]
    }
   ],
   "source": [
    "x0 = [2, 30]\n",
    "for x in x0:\n",
    "    k = minimize(fx, x, method='BFGS')\n",
    "    print('BFGS -', x)\n",
    "    print(k)\n",
    "    print('------------------')"
   ]
  },
  {
   "cell_type": "code",
   "execution_count": 22,
   "id": "10ae4dfb",
   "metadata": {},
   "outputs": [
    {
     "name": "stdout",
     "output_type": "stream",
     "text": [
      "     fun: array([-11.89889467])\n",
      "     jac: array([-3.55271338e-07])\n",
      " message: 'Optimization terminated successfully.'\n",
      "    nfev: 83\n",
      "     nit: 4\n",
      " success: True\n",
      "       x: array([25.88019249])\n"
     ]
    }
   ],
   "source": [
    "from scipy.optimize import differential_evolution\n",
    "def func(x):\n",
    "    f = np.sin(x / 5.) * np.exp(x /10.) + 5 * np.exp(-x /2.)\n",
    "    return f\n",
    "bounds = [[2,30]]\n",
    "DifEvo = differential_evolution(func, bounds)\n",
    "print(DifEvo)"
   ]
  },
  {
   "cell_type": "code",
   "execution_count": 41,
   "id": "ac01c315",
   "metadata": {},
   "outputs": [],
   "source": [
    "def func(x):\n",
    "    f = int(np.sin(x / 5.) * np.exp(x /10.) + 5 * np.exp(-x /2.))\n",
    "    return f"
   ]
  },
  {
   "cell_type": "code",
   "execution_count": 43,
   "id": "430eb23c",
   "metadata": {},
   "outputs": [
    {
     "name": "stdout",
     "output_type": "stream",
     "text": [
      "BFGS - 2\n",
      "      fun: 2\n",
      " hess_inv: array([[1]])\n",
      "      jac: array([0.])\n",
      "  message: 'Optimization terminated successfully.'\n",
      "     nfev: 2\n",
      "      nit: 0\n",
      "     njev: 1\n",
      "   status: 0\n",
      "  success: True\n",
      "        x: array([2.])\n",
      "------------------\n",
      "BFGS - 30\n",
      "      fun: -5\n",
      " hess_inv: array([[1]])\n",
      "      jac: array([0.])\n",
      "  message: 'Optimization terminated successfully.'\n",
      "     nfev: 2\n",
      "      nit: 0\n",
      "     njev: 1\n",
      "   status: 0\n",
      "  success: True\n",
      "        x: array([30.])\n",
      "------------------\n"
     ]
    }
   ],
   "source": [
    "x0 = [2, 30]\n",
    "for x in x0:\n",
    "    k2 = minimize(func, x, method='BFGS')\n",
    "    print('BFGS -', x)\n",
    "    print(k2)\n",
    "    print('------------------')"
   ]
  },
  {
   "cell_type": "code",
   "execution_count": 44,
   "id": "a0b20f4e",
   "metadata": {},
   "outputs": [],
   "source": [
    "xP = np.arange(1, 30)"
   ]
  },
  {
   "cell_type": "code",
   "execution_count": 45,
   "id": "985cce80",
   "metadata": {},
   "outputs": [],
   "source": [
    "yP = []\n",
    "for x in xP:\n",
    "    yP.append(func(x))"
   ]
  },
  {
   "cell_type": "code",
   "execution_count": 46,
   "id": "5ddcc8e1",
   "metadata": {},
   "outputs": [
    {
     "data": {
      "text/plain": [
       "[<matplotlib.lines.Line2D at 0x1a51c7269a0>]"
      ]
     },
     "execution_count": 46,
     "metadata": {},
     "output_type": "execute_result"
    },
    {
     "data": {
      "image/png": "[encoded data removed]",
      "text/plain": [
       "<Figure size 432x288 with 1 Axes>"
      ]
     },
     "metadata": {
      "needs_background": "light"
     },
     "output_type": "display_data"
    }
   ],
   "source": [
    "plt.plot(xP, yP)"
   ]
  },
  {
   "cell_type": "code",
   "execution_count": null,
   "id": "e86993ac",
   "metadata": {},
   "outputs": [],
   "source": []
  }
 ],
 "metadata": {
  "kernelspec": {
   "display_name": "Python 3 (ipykernel)",
   "language": "python",
   "name": "python3"
  },
  "language_info": {
   "codemirror_mode": {
    "name": "ipython",
    "version": 3
   },
   "file_extension": ".py",
   "mimetype": "text/x-python",
   "name": "python",
   "nbconvert_exporter": "python",
   "pygments_lexer": "ipython3",
   "version": "3.9.12"
  }
 },
 "nbformat": 4,
 "nbformat_minor": 5
}
