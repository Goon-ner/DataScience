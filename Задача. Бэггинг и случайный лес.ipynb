{
 "cells": [
  {
   "cell_type": "code",
   "execution_count": 1,
   "id": "479d84d5",
   "metadata": {},
   "outputs": [
    {
     "name": "stdout",
     "output_type": "stream",
     "text": [
      "Populating the interactive namespace from numpy and matplotlib\n"
     ]
    }
   ],
   "source": [
    "%pylab inline\n",
    "from sklearn import ensemble, model_selection, metrics, datasets\n",
    "\n",
    "import numpy as np\n",
    "import pandas as pd"
   ]
  },
  {
   "cell_type": "code",
   "execution_count": 2,
   "id": "b7ffa100",
   "metadata": {},
   "outputs": [],
   "source": [
    "data = datasets.load_digits()"
   ]
  },
  {
   "cell_type": "code",
   "execution_count": 3,
   "id": "fc1ca7a1",
   "metadata": {},
   "outputs": [],
   "source": [
    "X = data.data"
   ]
  },
  {
   "cell_type": "code",
   "execution_count": 4,
   "id": "14390c24",
   "metadata": {},
   "outputs": [],
   "source": [
    "y = data.target"
   ]
  },
  {
   "cell_type": "code",
   "execution_count": 5,
   "id": "e6f8be7d",
   "metadata": {},
   "outputs": [
    {
     "data": {
      "text/plain": [
       "(1797, 64)"
      ]
     },
     "execution_count": 5,
     "metadata": {},
     "output_type": "execute_result"
    }
   ],
   "source": [
    "X.shape"
   ]
  },
  {
   "cell_type": "code",
   "execution_count": 6,
   "id": "22fd75e7",
   "metadata": {},
   "outputs": [
    {
     "data": {
      "text/plain": [
       "(1797,)"
      ]
     },
     "execution_count": 6,
     "metadata": {},
     "output_type": "execute_result"
    }
   ],
   "source": [
    "y.shape"
   ]
  },
  {
   "cell_type": "code",
   "execution_count": 7,
   "id": "76841a4c",
   "metadata": {},
   "outputs": [],
   "source": [
    "rf_classifier = ensemble.RandomForestClassifier()"
   ]
  },
  {
   "cell_type": "code",
   "execution_count": 8,
   "id": "9c03c8ee",
   "metadata": {},
   "outputs": [],
   "source": [
    "rf_classifier.fit(X, y)\n",
    "cv = model_selection.cross_val_score(rf_classifier, X=X, y=y, cv = 10)"
   ]
  },
  {
   "cell_type": "code",
   "execution_count": 9,
   "id": "95f8deae",
   "metadata": {},
   "outputs": [
    {
     "data": {
      "text/plain": [
       "array([0.90555556, 0.97777778, 0.93333333, 0.91666667, 0.97222222,\n",
       "       0.97777778, 0.98888889, 0.97765363, 0.92178771, 0.93854749])"
      ]
     },
     "execution_count": 9,
     "metadata": {},
     "output_type": "execute_result"
    }
   ],
   "source": [
    "cv"
   ]
  },
  {
   "cell_type": "code",
   "execution_count": 10,
   "id": "97f72a98",
   "metadata": {},
   "outputs": [
    {
     "data": {
      "text/plain": [
       "0.9510211049037863"
      ]
     },
     "execution_count": 10,
     "metadata": {},
     "output_type": "execute_result"
    }
   ],
   "source": [
    "cv.mean()"
   ]
  },
  {
   "cell_type": "code",
   "execution_count": 11,
   "id": "f1a55ea7",
   "metadata": {},
   "outputs": [],
   "source": [
    "BC = ensemble.BaggingClassifier(rf_classifier, n_estimators=100).fit(X, y)"
   ]
  },
  {
   "cell_type": "code",
   "execution_count": 12,
   "id": "61761bcb",
   "metadata": {},
   "outputs": [],
   "source": [
    "cvBC = model_selection.cross_val_score(BC, X=X, y=y, cv = 10)"
   ]
  },
  {
   "cell_type": "code",
   "execution_count": 13,
   "id": "48cfbd00",
   "metadata": {},
   "outputs": [
    {
     "data": {
      "text/plain": [
       "array([0.9       , 0.97222222, 0.95      , 0.92777778, 0.96111111,\n",
       "       0.96666667, 0.96666667, 0.95530726, 0.91620112, 0.93854749])"
      ]
     },
     "execution_count": 13,
     "metadata": {},
     "output_type": "execute_result"
    }
   ],
   "source": [
    "cvBC"
   ]
  },
  {
   "cell_type": "code",
   "execution_count": 14,
   "id": "b61acdf0",
   "metadata": {},
   "outputs": [
    {
     "data": {
      "text/plain": [
       "0.9454500310366232"
      ]
     },
     "execution_count": 14,
     "metadata": {},
     "output_type": "execute_result"
    }
   ],
   "source": [
    "cvBC.mean()"
   ]
  },
  {
   "cell_type": "code",
   "execution_count": 15,
   "id": "a0307718",
   "metadata": {},
   "outputs": [],
   "source": [
    "BC2 = ensemble.BaggingClassifier(rf_classifier, n_estimators=100, max_features=8).fit(X, y)"
   ]
  },
  {
   "cell_type": "code",
   "execution_count": 16,
   "id": "a8ee6b10",
   "metadata": {},
   "outputs": [],
   "source": [
    "cvBC2 = model_selection.cross_val_score(BC2, X=X, y=y, cv = 5)"
   ]
  },
  {
   "cell_type": "code",
   "execution_count": 17,
   "id": "28ae3982",
   "metadata": {},
   "outputs": [
    {
     "data": {
      "text/plain": [
       "array([0.93611111, 0.88888889, 0.94150418, 0.96935933, 0.90250696])"
      ]
     },
     "execution_count": 17,
     "metadata": {},
     "output_type": "execute_result"
    }
   ],
   "source": [
    "cvBC2"
   ]
  },
  {
   "cell_type": "code",
   "execution_count": 18,
   "id": "af80f27a",
   "metadata": {},
   "outputs": [
    {
     "data": {
      "text/plain": [
       "0.9276740947075209"
      ]
     },
     "execution_count": 18,
     "metadata": {},
     "output_type": "execute_result"
    }
   ],
   "source": [
    "cvBC2.mean()"
   ]
  },
  {
   "cell_type": "code",
   "execution_count": null,
   "id": "ee406f5f",
   "metadata": {},
   "outputs": [],
   "source": []
  }
 ],
 "metadata": {
  "kernelspec": {
   "display_name": "Python 3 (ipykernel)",
   "language": "python",
   "name": "python3"
  },
  "language_info": {
   "codemirror_mode": {
    "name": "ipython",
    "version": 3
   },
   "file_extension": ".py",
   "mimetype": "text/x-python",
   "name": "python",
   "nbconvert_exporter": "python",
   "pygments_lexer": "ipython3",
   "version": "3.9.12"
  }
 },
 "nbformat": 4,
 "nbformat_minor": 5
}
