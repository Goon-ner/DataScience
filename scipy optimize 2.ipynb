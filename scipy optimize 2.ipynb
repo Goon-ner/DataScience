{
 "cells": [
  {
   "cell_type": "code",
   "execution_count": 14,
   "id": "ae93ceb3",
   "metadata": {},
   "outputs": [],
   "source": [
    "import numpy as np\n",
    "import math\n",
    "import matplotlib.pylab as plt\n",
    "from scipy.optimize import minimize\n",
    "from scipy.optimize import differential_evolution"
   ]
  },
  {
   "cell_type": "code",
   "execution_count": 15,
   "id": "e8431460",
   "metadata": {},
   "outputs": [],
   "source": [
    "# f(x) = sin(x / 5) * exp(x / 10) + 5 * exp(-x / 2)\n",
    "def functQuiz(x):\n",
    "    f = np.sin(x / 5.) * np.exp(x /10.) + 5 * np.exp(-x /2.)\n",
    "    return f"
   ]
  },
  {
   "cell_type": "code",
   "execution_count": 16,
   "id": "3ccbeb52",
   "metadata": {},
   "outputs": [],
   "source": [
    "xPoints = np.arange(1, 30, 0.1)"
   ]
  },
  {
   "cell_type": "code",
   "execution_count": 17,
   "id": "5595f15d",
   "metadata": {},
   "outputs": [],
   "source": [
    "yPoints = []\n",
    "for x in xPoints:\n",
    "    yPoints.append(functQuiz(x))"
   ]
  },
  {
   "cell_type": "code",
   "execution_count": 18,
   "id": "95e82bd5",
   "metadata": {},
   "outputs": [],
   "source": [
    "fx = functQuiz\n",
    "yPoints = list(map(fx, xPoints))"
   ]
  },
  {
   "cell_type": "code",
   "execution_count": 19,
   "id": "c03de65e",
   "metadata": {},
   "outputs": [
    {
     "name": "stdout",
     "output_type": "stream",
     "text": [
      "BFGS 2\n",
      "      fun: 1.7452682903447336\n",
      " hess_inv: array([[5.98752645]])\n",
      "      jac: array([-2.04145908e-06])\n",
      "  message: 'Optimization terminated successfully.'\n",
      "     nfev: 14\n",
      "      nit: 6\n",
      "     njev: 7\n",
      "   status: 0\n",
      "  success: True\n",
      "        x: array([4.13627628])\n",
      "------------------\n",
      "BFGS 30\n",
      "      fun: -11.898894665981313\n",
      " hess_inv: array([[1.67936744]])\n",
      "      jac: array([0.])\n",
      "  message: 'Optimization terminated successfully.'\n",
      "     nfev: 14\n",
      "      nit: 6\n",
      "     njev: 7\n",
      "   status: 0\n",
      "  success: True\n",
      "        x: array([25.88019321])\n",
      "------------------\n"
     ]
    }
   ],
   "source": [
    "x0 = [2, 30]\n",
    "for x in x0:\n",
    "    k = minimize(fx, x, method='BFGS')\n",
    "    print('BFGS', x)\n",
    "    print(k)\n",
    "    print('------------------')"
   ]
  },
  {
   "cell_type": "code",
   "execution_count": 23,
   "id": "bfc01872",
   "metadata": {},
   "outputs": [
    {
     "name": "stdout",
     "output_type": "stream",
     "text": [
      "DifEvo 2\n",
      "     fun: array([-11.89889467])\n",
      "     jac: array([1.59872102e-06])\n",
      " message: 'Optimization terminated successfully.'\n",
      "    nfev: 81\n",
      "     nit: 4\n",
      " success: True\n",
      "       x: array([25.88019531])\n",
      "------------------\n"
     ]
    }
   ],
   "source": [
    "k = differential_evolution(fx, [(1, 30)])\n",
    "print('DifEvo', x)\n",
    "print(k)\n",
    "print('------------------')"
   ]
  },
  {
   "cell_type": "code",
   "execution_count": null,
   "id": "1ac9ba6c",
   "metadata": {},
   "outputs": [],
   "source": []
  }
 ],
 "metadata": {
  "kernelspec": {
   "display_name": "Python 3 (ipykernel)",
   "language": "python",
   "name": "python3"
  },
  "language_info": {
   "codemirror_mode": {
    "name": "ipython",
    "version": 3
   },
   "file_extension": ".py",
   "mimetype": "text/x-python",
   "name": "python",
   "nbconvert_exporter": "python",
   "pygments_lexer": "ipython3",
   "version": "3.9.7"
  }
 },
 "nbformat": 4,
 "nbformat_minor": 5
}
