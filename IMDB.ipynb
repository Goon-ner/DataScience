{
 "cells": [
  {
   "cell_type": "code",
   "execution_count": 1,
   "id": "ad531adb",
   "metadata": {},
   "outputs": [],
   "source": [
    "import numpy as np\n",
    "import pandas as pd\n",
    "import matplotlib.pyplot as plt\n",
    "%matplotlib inline"
   ]
  },
  {
   "cell_type": "code",
   "execution_count": 2,
   "id": "f4e5e245",
   "metadata": {},
   "outputs": [],
   "source": [
    "import warnings\n",
    "warnings.filterwarnings('ignore')"
   ]
  },
  {
   "cell_type": "code",
   "execution_count": 3,
   "id": "b8a6ffc0",
   "metadata": {},
   "outputs": [
    {
     "data": {
      "text/plain": [
       "(25000, 3)"
      ]
     },
     "execution_count": 3,
     "metadata": {},
     "output_type": "execute_result"
    }
   ],
   "source": [
    "imdb = pd.read_csv('IMDBTrainData.tsv', delimiter='\\t')\n",
    "imdb.shape"
   ]
  },
  {
   "cell_type": "code",
   "execution_count": 4,
   "id": "18da9d76",
   "metadata": {},
   "outputs": [
    {
     "data": {
      "text/html": [
       "<div>\n",
       "<style scoped>\n",
       "    .dataframe tbody tr th:only-of-type {\n",
       "        vertical-align: middle;\n",
       "    }\n",
       "\n",
       "    .dataframe tbody tr th {\n",
       "        vertical-align: top;\n",
       "    }\n",
       "\n",
       "    .dataframe thead th {\n",
       "        text-align: right;\n",
       "    }\n",
       "</style>\n",
       "<table border=\"1\" class=\"dataframe\">\n",
       "  <thead>\n",
       "    <tr style=\"text-align: right;\">\n",
       "      <th></th>\n",
       "      <th>id</th>\n",
       "      <th>sentiment</th>\n",
       "      <th>review</th>\n",
       "    </tr>\n",
       "  </thead>\n",
       "  <tbody>\n",
       "    <tr>\n",
       "      <th>0</th>\n",
       "      <td>5814_8</td>\n",
       "      <td>1</td>\n",
       "      <td>With all this stuff going down at the moment w...</td>\n",
       "    </tr>\n",
       "    <tr>\n",
       "      <th>1</th>\n",
       "      <td>2381_9</td>\n",
       "      <td>1</td>\n",
       "      <td>\\The Classic War of the Worlds\\\" by Timothy Hi...</td>\n",
       "    </tr>\n",
       "    <tr>\n",
       "      <th>2</th>\n",
       "      <td>7759_3</td>\n",
       "      <td>0</td>\n",
       "      <td>The film starts with a manager (Nicholas Bell)...</td>\n",
       "    </tr>\n",
       "    <tr>\n",
       "      <th>3</th>\n",
       "      <td>3630_4</td>\n",
       "      <td>0</td>\n",
       "      <td>It must be assumed that those who praised this...</td>\n",
       "    </tr>\n",
       "    <tr>\n",
       "      <th>4</th>\n",
       "      <td>9495_8</td>\n",
       "      <td>1</td>\n",
       "      <td>Superbly trashy and wondrously unpretentious 8...</td>\n",
       "    </tr>\n",
       "  </tbody>\n",
       "</table>\n",
       "</div>"
      ],
      "text/plain": [
       "       id  sentiment                                             review\n",
       "0  5814_8          1  With all this stuff going down at the moment w...\n",
       "1  2381_9          1  \\The Classic War of the Worlds\\\" by Timothy Hi...\n",
       "2  7759_3          0  The film starts with a manager (Nicholas Bell)...\n",
       "3  3630_4          0  It must be assumed that those who praised this...\n",
       "4  9495_8          1  Superbly trashy and wondrously unpretentious 8..."
      ]
     },
     "execution_count": 4,
     "metadata": {},
     "output_type": "execute_result"
    }
   ],
   "source": [
    "imdb.head()"
   ]
  },
  {
   "cell_type": "code",
   "execution_count": 5,
   "id": "342a7082",
   "metadata": {},
   "outputs": [
    {
     "data": {
      "text/plain": [
       "1    12500\n",
       "0    12500\n",
       "Name: sentiment, dtype: int64"
      ]
     },
     "execution_count": 5,
     "metadata": {},
     "output_type": "execute_result"
    }
   ],
   "source": [
    "imdb.sentiment.value_counts()"
   ]
  },
  {
   "cell_type": "code",
   "execution_count": 6,
   "id": "8be4048f",
   "metadata": {},
   "outputs": [],
   "source": [
    "from sklearn.model_selection import train_test_split\n",
    "texts_train, texts_test, y_train, y_test = train_test_split(imdb.review.values, imdb.sentiment.values)"
   ]
  },
  {
   "cell_type": "markdown",
   "id": "670e0472",
   "metadata": {},
   "source": [
    "Векторизуем тексты рецензий"
   ]
  },
  {
   "cell_type": "code",
   "execution_count": 7,
   "id": "28ec66ab",
   "metadata": {},
   "outputs": [],
   "source": [
    "from sklearn.feature_extraction.text import TfidfVectorizer\n",
    "vect = TfidfVectorizer(sublinear_tf=True, use_idf=True)\n",
    "X_train = vect.fit_transform(texts_train)\n",
    "X_test = vect.transform(texts_test)"
   ]
  },
  {
   "cell_type": "markdown",
   "id": "04e8c411",
   "metadata": {},
   "source": [
    "Настроим на векторизованных данных логистическую регрессию и посчитаем AUC:"
   ]
  },
  {
   "cell_type": "code",
   "execution_count": 8,
   "id": "bf00116a",
   "metadata": {},
   "outputs": [
    {
     "name": "stdout",
     "output_type": "stream",
     "text": [
      "0.89328\n",
      "0.9596355675052815\n"
     ]
    }
   ],
   "source": [
    "from sklearn.linear_model import LogisticRegression\n",
    "from sklearn import metrics\n",
    "clf = LogisticRegression()\n",
    "clf.fit(X_train, y_train)\n",
    "print(metrics.accuracy_score(y_test, clf.predict(X_test)))\n",
    "print(metrics.roc_auc_score(y_test, clf.predict_proba(X_test)[:, 1]))"
   ]
  },
  {
   "cell_type": "code",
   "execution_count": 9,
   "id": "439f629a",
   "metadata": {},
   "outputs": [
    {
     "data": {
      "text/plain": [
       "(18750, 66751)"
      ]
     },
     "execution_count": 9,
     "metadata": {},
     "output_type": "execute_result"
    }
   ],
   "source": [
    "#признаков получилось очень много\n",
    "X_train.shape"
   ]
  },
  {
   "cell_type": "code",
   "execution_count": 19,
   "id": "8686be84",
   "metadata": {},
   "outputs": [
    {
     "name": "stdout",
     "output_type": "stream",
     "text": [
      "108\n",
      "0.81536\n",
      "0.8992454772421739\n"
     ]
    }
   ],
   "source": [
    "#попробуем отбирать признаки с помощью лассо\n",
    "clf = LogisticRegression(C=0.15, solver='liblinear', penalty='l1')\n",
    "clf.fit(X_train, y_train)\n",
    "print(np.sum(np.abs(clf.coef_) > 1e-4))\n",
    "print(metrics.accuracy_score(y_test, clf.predict(X_test)))\n",
    "print(metrics.roc_auc_score(y_test, clf.predict_proba(X_test)[:, 1]))"
   ]
  },
  {
   "cell_type": "markdown",
   "id": "9579ad1d",
   "metadata": {},
   "source": [
    "108 признаков получилось\n"
   ]
  },
  {
   "cell_type": "markdown",
   "id": "58616ca5",
   "metadata": {},
   "source": [
    "### Метод главных компонент\n",
    "Сделаем 100 синтетических признаков с помощью метода главных компонент:"
   ]
  },
  {
   "cell_type": "code",
   "execution_count": 22,
   "id": "50915b9f",
   "metadata": {},
   "outputs": [],
   "source": [
    "from sklearn.decomposition import TruncatedSVD\n",
    "tsvd = TruncatedSVD(n_components=100)\n",
    "X_train_pca = tsvd.fit_transform(X_train)\n",
    "X_test_pca = tsvd.transform(X_test)"
   ]
  },
  {
   "cell_type": "markdown",
   "id": "0f975825",
   "metadata": {},
   "source": [
    "Обучим на них логистическую регрессию:"
   ]
  },
  {
   "cell_type": "code",
   "execution_count": 23,
   "id": "833b30e5",
   "metadata": {},
   "outputs": [
    {
     "name": "stdout",
     "output_type": "stream",
     "text": [
      "0.87072\n",
      "0.9419701171499905\n"
     ]
    }
   ],
   "source": [
    "clf = LogisticRegression()\n",
    "clf.fit(X_train_pca, y_train)\n",
    "print(metrics.accuracy_score(y_test, clf.predict(X_test_pca)))\n",
    "print(metrics.roc_auc_score(y_test, clf.predict_proba(X_test_pca)[:, 1]))"
   ]
  },
  {
   "cell_type": "markdown",
   "id": "1412ee79",
   "metadata": {},
   "source": [
    "По 100 полученных таким способом признакам качество получается не намного хуже, чем по всем 66702!\n",
    "\n",
    "Попробуем обучить на них обучить случайный лес:"
   ]
  },
  {
   "cell_type": "code",
   "execution_count": 24,
   "id": "4a0ab29f",
   "metadata": {},
   "outputs": [
    {
     "name": "stdout",
     "output_type": "stream",
     "text": [
      "0.8328\n",
      "0.9081085205812688\n"
     ]
    }
   ],
   "source": [
    "from sklearn.ensemble import RandomForestClassifier\n",
    "clf = RandomForestClassifier(n_estimators=100)\n",
    "clf.fit(X_train_pca, y_train)\n",
    "print(metrics.accuracy_score(y_test, clf.predict(X_test_pca)))\n",
    "print(metrics.roc_auc_score(y_test, clf.predict_proba(X_test_pca)[:, 1]))"
   ]
  },
  {
   "cell_type": "markdown",
   "id": "870007e1",
   "metadata": {},
   "source": [
    "Признаки, которые даёт метод главных компонент, оптимальны для линейных методов, поэтому логистическая регрессия показывает результаты лучше, чем сложные нелинейные классификаторы."
   ]
  },
  {
   "cell_type": "code",
   "execution_count": null,
   "id": "e67f6a04",
   "metadata": {},
   "outputs": [],
   "source": []
  }
 ],
 "metadata": {
  "kernelspec": {
   "display_name": "Python 3 (ipykernel)",
   "language": "python",
   "name": "python3"
  },
  "language_info": {
   "codemirror_mode": {
    "name": "ipython",
    "version": 3
   },
   "file_extension": ".py",
   "mimetype": "text/x-python",
   "name": "python",
   "nbconvert_exporter": "python",
   "pygments_lexer": "ipython3",
   "version": "3.9.7"
  }
 },
 "nbformat": 4,
 "nbformat_minor": 5
}
