{
 "cells": [
  {
   "cell_type": "code",
   "execution_count": 2,
   "id": "ff00f229",
   "metadata": {},
   "outputs": [],
   "source": [
    "import pandas as pd"
   ]
  },
  {
   "cell_type": "code",
   "execution_count": 5,
   "id": "8b0d3b0f",
   "metadata": {},
   "outputs": [
    {
     "name": "stderr",
     "output_type": "stream",
     "text": [
      "C:\\Users\\maaga\\AppData\\Local\\Temp\\ipykernel_12972\\2455441405.py:1: DtypeWarning: Columns (0) have mixed types. Specify dtype option on import or set low_memory=False.\n",
      "  raw_data = pd.read_csv('checkins.dat', sep='|', skipinitialspace=True)\n"
     ]
    }
   ],
   "source": [
    "raw_data = pd.read_csv('checkins.dat', sep='|', skipinitialspace=True) "
   ]
  },
  {
   "cell_type": "code",
   "execution_count": 6,
   "id": "7677f0a6",
   "metadata": {},
   "outputs": [
    {
     "data": {
      "text/html": [
       "<div>\n",
       "<style scoped>\n",
       "    .dataframe tbody tr th:only-of-type {\n",
       "        vertical-align: middle;\n",
       "    }\n",
       "\n",
       "    .dataframe tbody tr th {\n",
       "        vertical-align: top;\n",
       "    }\n",
       "\n",
       "    .dataframe thead th {\n",
       "        text-align: right;\n",
       "    }\n",
       "</style>\n",
       "<table border=\"1\" class=\"dataframe\">\n",
       "  <thead>\n",
       "    <tr style=\"text-align: right;\">\n",
       "      <th></th>\n",
       "      <th>id</th>\n",
       "      <th>user_id</th>\n",
       "      <th>venue_id</th>\n",
       "      <th>latitude</th>\n",
       "      <th>longitude</th>\n",
       "      <th>created_at</th>\n",
       "    </tr>\n",
       "  </thead>\n",
       "  <tbody>\n",
       "    <tr>\n",
       "      <th>0</th>\n",
       "      <td>---------+---------+----------+---------------...</td>\n",
       "      <td>NaN</td>\n",
       "      <td>NaN</td>\n",
       "      <td>NaN</td>\n",
       "      <td>NaN</td>\n",
       "      <td>NaN</td>\n",
       "    </tr>\n",
       "    <tr>\n",
       "      <th>1</th>\n",
       "      <td>984301</td>\n",
       "      <td>2041916.0</td>\n",
       "      <td>5222.0</td>\n",
       "      <td>NaN</td>\n",
       "      <td>NaN</td>\n",
       "      <td>2012-04-21 17:39:01</td>\n",
       "    </tr>\n",
       "    <tr>\n",
       "      <th>2</th>\n",
       "      <td>984222</td>\n",
       "      <td>15824.0</td>\n",
       "      <td>5222.0</td>\n",
       "      <td>38.895112</td>\n",
       "      <td>-77.036366</td>\n",
       "      <td>2012-04-21 17:43:47</td>\n",
       "    </tr>\n",
       "    <tr>\n",
       "      <th>3</th>\n",
       "      <td>984315</td>\n",
       "      <td>1764391.0</td>\n",
       "      <td>5222.0</td>\n",
       "      <td>NaN</td>\n",
       "      <td>NaN</td>\n",
       "      <td>2012-04-21 17:37:18</td>\n",
       "    </tr>\n",
       "    <tr>\n",
       "      <th>4</th>\n",
       "      <td>984234</td>\n",
       "      <td>44652.0</td>\n",
       "      <td>5222.0</td>\n",
       "      <td>33.800745</td>\n",
       "      <td>-84.410520</td>\n",
       "      <td>2012-04-21 17:43:43</td>\n",
       "    </tr>\n",
       "    <tr>\n",
       "      <th>...</th>\n",
       "      <td>...</td>\n",
       "      <td>...</td>\n",
       "      <td>...</td>\n",
       "      <td>...</td>\n",
       "      <td>...</td>\n",
       "      <td>...</td>\n",
       "    </tr>\n",
       "    <tr>\n",
       "      <th>1021963</th>\n",
       "      <td>956119</td>\n",
       "      <td>1139114.0</td>\n",
       "      <td>29488.0</td>\n",
       "      <td>42.439479</td>\n",
       "      <td>-83.743830</td>\n",
       "      <td>2012-04-13 11:36:44</td>\n",
       "    </tr>\n",
       "    <tr>\n",
       "      <th>1021964</th>\n",
       "      <td>956447</td>\n",
       "      <td>2088020.0</td>\n",
       "      <td>4432.0</td>\n",
       "      <td>NaN</td>\n",
       "      <td>NaN</td>\n",
       "      <td>2012-04-13 12:58:05</td>\n",
       "    </tr>\n",
       "    <tr>\n",
       "      <th>1021965</th>\n",
       "      <td>956733</td>\n",
       "      <td>960666.0</td>\n",
       "      <td>60.0</td>\n",
       "      <td>42.331427</td>\n",
       "      <td>-83.045754</td>\n",
       "      <td>2012-04-13 21:56:19</td>\n",
       "    </tr>\n",
       "    <tr>\n",
       "      <th>1021966</th>\n",
       "      <td>957139</td>\n",
       "      <td>1771518.0</td>\n",
       "      <td>10935.0</td>\n",
       "      <td>NaN</td>\n",
       "      <td>NaN</td>\n",
       "      <td>2012-04-14 02:44:52</td>\n",
       "    </tr>\n",
       "    <tr>\n",
       "      <th>1021967</th>\n",
       "      <td>(1021966 rows)</td>\n",
       "      <td>NaN</td>\n",
       "      <td>NaN</td>\n",
       "      <td>NaN</td>\n",
       "      <td>NaN</td>\n",
       "      <td>NaN</td>\n",
       "    </tr>\n",
       "  </tbody>\n",
       "</table>\n",
       "<p>1021968 rows × 6 columns</p>\n",
       "</div>"
      ],
      "text/plain": [
       "                                                    id       user_id   \\\n",
       "0        ---------+---------+----------+---------------...        NaN   \n",
       "1                                                  984301   2041916.0   \n",
       "2                                                  984222     15824.0   \n",
       "3                                                  984315   1764391.0   \n",
       "4                                                  984234     44652.0   \n",
       "...                                                    ...        ...   \n",
       "1021963                                            956119   1139114.0   \n",
       "1021964                                            956447   2088020.0   \n",
       "1021965                                            956733    960666.0   \n",
       "1021966                                            957139   1771518.0   \n",
       "1021967                                     (1021966 rows)        NaN   \n",
       "\n",
       "         venue_id   latitude        longitude          created_at        \n",
       "0              NaN             NaN             NaN                  NaN  \n",
       "1           5222.0             NaN             NaN  2012-04-21 17:39:01  \n",
       "2           5222.0       38.895112      -77.036366  2012-04-21 17:43:47  \n",
       "3           5222.0             NaN             NaN  2012-04-21 17:37:18  \n",
       "4           5222.0       33.800745      -84.410520  2012-04-21 17:43:43  \n",
       "...            ...             ...             ...                  ...  \n",
       "1021963    29488.0       42.439479      -83.743830  2012-04-13 11:36:44  \n",
       "1021964     4432.0             NaN             NaN  2012-04-13 12:58:05  \n",
       "1021965       60.0       42.331427      -83.045754  2012-04-13 21:56:19  \n",
       "1021966    10935.0             NaN             NaN  2012-04-14 02:44:52  \n",
       "1021967        NaN             NaN             NaN                  NaN  \n",
       "\n",
       "[1021968 rows x 6 columns]"
      ]
     },
     "execution_count": 6,
     "metadata": {},
     "output_type": "execute_result"
    }
   ],
   "source": [
    "raw_data"
   ]
  },
  {
   "cell_type": "code",
   "execution_count": 7,
   "id": "3b314303",
   "metadata": {},
   "outputs": [],
   "source": [
    "data = raw_data.dropna(axis=0, how='any')"
   ]
  },
  {
   "cell_type": "code",
   "execution_count": 8,
   "id": "bd0e562f",
   "metadata": {},
   "outputs": [
    {
     "data": {
      "text/html": [
       "<div>\n",
       "<style scoped>\n",
       "    .dataframe tbody tr th:only-of-type {\n",
       "        vertical-align: middle;\n",
       "    }\n",
       "\n",
       "    .dataframe tbody tr th {\n",
       "        vertical-align: top;\n",
       "    }\n",
       "\n",
       "    .dataframe thead th {\n",
       "        text-align: right;\n",
       "    }\n",
       "</style>\n",
       "<table border=\"1\" class=\"dataframe\">\n",
       "  <thead>\n",
       "    <tr style=\"text-align: right;\">\n",
       "      <th></th>\n",
       "      <th>id</th>\n",
       "      <th>user_id</th>\n",
       "      <th>venue_id</th>\n",
       "      <th>latitude</th>\n",
       "      <th>longitude</th>\n",
       "      <th>created_at</th>\n",
       "    </tr>\n",
       "  </thead>\n",
       "  <tbody>\n",
       "    <tr>\n",
       "      <th>2</th>\n",
       "      <td>984222</td>\n",
       "      <td>15824.0</td>\n",
       "      <td>5222.0</td>\n",
       "      <td>38.895112</td>\n",
       "      <td>-77.036366</td>\n",
       "      <td>2012-04-21 17:43:47</td>\n",
       "    </tr>\n",
       "    <tr>\n",
       "      <th>4</th>\n",
       "      <td>984234</td>\n",
       "      <td>44652.0</td>\n",
       "      <td>5222.0</td>\n",
       "      <td>33.800745</td>\n",
       "      <td>-84.410520</td>\n",
       "      <td>2012-04-21 17:43:43</td>\n",
       "    </tr>\n",
       "    <tr>\n",
       "      <th>8</th>\n",
       "      <td>984291</td>\n",
       "      <td>105054.0</td>\n",
       "      <td>5222.0</td>\n",
       "      <td>45.523452</td>\n",
       "      <td>-122.676207</td>\n",
       "      <td>2012-04-21 17:39:22</td>\n",
       "    </tr>\n",
       "    <tr>\n",
       "      <th>10</th>\n",
       "      <td>984318</td>\n",
       "      <td>2146539.0</td>\n",
       "      <td>5222.0</td>\n",
       "      <td>40.764462</td>\n",
       "      <td>-111.904565</td>\n",
       "      <td>2012-04-21 17:35:46</td>\n",
       "    </tr>\n",
       "    <tr>\n",
       "      <th>11</th>\n",
       "      <td>984232</td>\n",
       "      <td>93870.0</td>\n",
       "      <td>380645.0</td>\n",
       "      <td>33.448377</td>\n",
       "      <td>-112.074037</td>\n",
       "      <td>2012-04-21 17:38:18</td>\n",
       "    </tr>\n",
       "    <tr>\n",
       "      <th>...</th>\n",
       "      <td>...</td>\n",
       "      <td>...</td>\n",
       "      <td>...</td>\n",
       "      <td>...</td>\n",
       "      <td>...</td>\n",
       "      <td>...</td>\n",
       "    </tr>\n",
       "    <tr>\n",
       "      <th>1021960</th>\n",
       "      <td>955561</td>\n",
       "      <td>626076.0</td>\n",
       "      <td>20073.0</td>\n",
       "      <td>40.850100</td>\n",
       "      <td>-73.866246</td>\n",
       "      <td>2012-04-13 09:56:48</td>\n",
       "    </tr>\n",
       "    <tr>\n",
       "      <th>1021961</th>\n",
       "      <td>955892</td>\n",
       "      <td>674797.0</td>\n",
       "      <td>2297.0</td>\n",
       "      <td>33.748995</td>\n",
       "      <td>-84.387982</td>\n",
       "      <td>2012-04-13 10:56:03</td>\n",
       "    </tr>\n",
       "    <tr>\n",
       "      <th>1021962</th>\n",
       "      <td>956377</td>\n",
       "      <td>845102.0</td>\n",
       "      <td>11195.0</td>\n",
       "      <td>42.765366</td>\n",
       "      <td>-71.467566</td>\n",
       "      <td>2012-04-13 12:08:45</td>\n",
       "    </tr>\n",
       "    <tr>\n",
       "      <th>1021963</th>\n",
       "      <td>956119</td>\n",
       "      <td>1139114.0</td>\n",
       "      <td>29488.0</td>\n",
       "      <td>42.439479</td>\n",
       "      <td>-83.743830</td>\n",
       "      <td>2012-04-13 11:36:44</td>\n",
       "    </tr>\n",
       "    <tr>\n",
       "      <th>1021965</th>\n",
       "      <td>956733</td>\n",
       "      <td>960666.0</td>\n",
       "      <td>60.0</td>\n",
       "      <td>42.331427</td>\n",
       "      <td>-83.045754</td>\n",
       "      <td>2012-04-13 21:56:19</td>\n",
       "    </tr>\n",
       "  </tbody>\n",
       "</table>\n",
       "<p>396634 rows × 6 columns</p>\n",
       "</div>"
      ],
      "text/plain": [
       "          id       user_id   venue_id   latitude        longitude       \\\n",
       "2        984222     15824.0     5222.0       38.895112      -77.036366   \n",
       "4        984234     44652.0     5222.0       33.800745      -84.410520   \n",
       "8        984291    105054.0     5222.0       45.523452     -122.676207   \n",
       "10       984318   2146539.0     5222.0       40.764462     -111.904565   \n",
       "11       984232     93870.0   380645.0       33.448377     -112.074037   \n",
       "...          ...        ...        ...             ...             ...   \n",
       "1021960  955561    626076.0    20073.0       40.850100      -73.866246   \n",
       "1021961  955892    674797.0     2297.0       33.748995      -84.387982   \n",
       "1021962  956377    845102.0    11195.0       42.765366      -71.467566   \n",
       "1021963  956119   1139114.0    29488.0       42.439479      -83.743830   \n",
       "1021965  956733    960666.0       60.0       42.331427      -83.045754   \n",
       "\n",
       "            created_at        \n",
       "2        2012-04-21 17:43:47  \n",
       "4        2012-04-21 17:43:43  \n",
       "8        2012-04-21 17:39:22  \n",
       "10       2012-04-21 17:35:46  \n",
       "11       2012-04-21 17:38:18  \n",
       "...                      ...  \n",
       "1021960  2012-04-13 09:56:48  \n",
       "1021961  2012-04-13 10:56:03  \n",
       "1021962  2012-04-13 12:08:45  \n",
       "1021963  2012-04-13 11:36:44  \n",
       "1021965  2012-04-13 21:56:19  \n",
       "\n",
       "[396634 rows x 6 columns]"
      ]
     },
     "execution_count": 8,
     "metadata": {},
     "output_type": "execute_result"
    }
   ],
   "source": [
    "data"
   ]
  },
  {
   "cell_type": "code",
   "execution_count": 9,
   "id": "9ffa84ee",
   "metadata": {},
   "outputs": [
    {
     "data": {
      "text/plain": [
       "Index(['id    ', 'user_id ', 'venue_id ', 'latitude      ', 'longitude     ',\n",
       "       'created_at      '],\n",
       "      dtype='object')"
      ]
     },
     "execution_count": 9,
     "metadata": {},
     "output_type": "execute_result"
    }
   ],
   "source": [
    "data.columns"
   ]
  },
  {
   "cell_type": "code",
   "execution_count": 10,
   "id": "af1afe65",
   "metadata": {},
   "outputs": [],
   "source": [
    "data = data.rename(columns = {\n",
    "    \"id    \":\"id\", \"user_id \":\"user_id\", \"venue_id \":\"venue_id\", \"latitude      \":\"latitude\", \n",
    "    \"longitude     \":\"longitude\", \"created_at      \":\"created_at\" \n",
    "})"
   ]
  },
  {
   "cell_type": "code",
   "execution_count": 11,
   "id": "6ad5c66e",
   "metadata": {},
   "outputs": [
    {
     "data": {
      "text/plain": [
       "Index(['id', 'user_id', 'venue_id', 'latitude', 'longitude', 'created_at'], dtype='object')"
      ]
     },
     "execution_count": 11,
     "metadata": {},
     "output_type": "execute_result"
    }
   ],
   "source": [
    "data.columns"
   ]
  },
  {
   "cell_type": "code",
   "execution_count": 12,
   "id": "db5f3b74",
   "metadata": {},
   "outputs": [],
   "source": [
    "X = data[['latitude', 'longitude']]"
   ]
  },
  {
   "cell_type": "code",
   "execution_count": 21,
   "id": "d231e4a4",
   "metadata": {},
   "outputs": [],
   "source": [
    "X = X[:100000]"
   ]
  },
  {
   "cell_type": "code",
   "execution_count": 22,
   "id": "24e682a2",
   "metadata": {},
   "outputs": [],
   "source": [
    "from sklearn import cluster"
   ]
  },
  {
   "cell_type": "code",
   "execution_count": 23,
   "id": "8e080398",
   "metadata": {},
   "outputs": [],
   "source": [
    "ms = cluster.MeanShift(bandwidth=0.1, n_jobs=-1)"
   ]
  },
  {
   "cell_type": "code",
   "execution_count": 24,
   "id": "5dfdd141",
   "metadata": {},
   "outputs": [
    {
     "data": {
      "text/plain": [
       "MeanShift(bandwidth=0.1, n_jobs=-1)"
      ]
     },
     "execution_count": 24,
     "metadata": {},
     "output_type": "execute_result"
    }
   ],
   "source": [
    "ms.fit(X)"
   ]
  },
  {
   "cell_type": "code",
   "execution_count": null,
   "id": "d9c438b4",
   "metadata": {},
   "outputs": [],
   "source": []
  }
 ],
 "metadata": {
  "kernelspec": {
   "display_name": "Python 3 (ipykernel)",
   "language": "python",
   "name": "python3"
  },
  "language_info": {
   "codemirror_mode": {
    "name": "ipython",
    "version": 3
   },
   "file_extension": ".py",
   "mimetype": "text/x-python",
   "name": "python",
   "nbconvert_exporter": "python",
   "pygments_lexer": "ipython3",
   "version": "3.9.12"
  }
 },
 "nbformat": 4,
 "nbformat_minor": 5
}
